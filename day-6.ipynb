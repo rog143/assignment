{
  "nbformat": 4,
  "nbformat_minor": 0,
  "metadata": {
    "colab": {
      "provenance": [],
      "authorship_tag": "ABX9TyMp/nyN+E8dTmfz1HOPkfLm",
      "include_colab_link": true
    },
    "kernelspec": {
      "name": "python3",
      "display_name": "Python 3"
    },
    "language_info": {
      "name": "python"
    }
  },
  "cells": [
    {
      "cell_type": "markdown",
      "metadata": {
        "id": "view-in-github",
        "colab_type": "text"
      },
      "source": [
        "<a href=\"https://colab.research.google.com/github/rog143/assignment/blob/main/day-6.ipynb\" target=\"_parent\"><img src=\"https://colab.research.google.com/assets/colab-badge.svg\" alt=\"Open In Colab\"/></a>"
      ]
    },
    {
      "cell_type": "code",
      "execution_count": 1,
      "metadata": {
        "colab": {
          "base_uri": "https://localhost:8080/"
        },
        "id": "lylJUa2p0b-I",
        "outputId": "3eeaec78-fdda-49c5-edcb-75a67096423c"
      },
      "outputs": [
        {
          "output_type": "stream",
          "name": "stderr",
          "text": [
            "[nltk_data] Downloading package stopwords to /root/nltk_data...\n",
            "[nltk_data]   Unzipping corpora/stopwords.zip.\n"
          ]
        },
        {
          "output_type": "stream",
          "name": "stdout",
          "text": [
            "Original Text: SpaCy is a powerful library for Natural Language Processing, and NLTK is great for text analysis.\n",
            "Processed Text: spacy powerful library natural language processing , nltk great text analysis .\n"
          ]
        }
      ],
      "source": [
        "#Write a Python program to using NLTK and Spacy\n",
        "#Convert text to lowercase.\n",
        "#Remove stopwords using NLTK\n",
        "import nltk\n",
        "from nltk.corpus import stopwords\n",
        "import spacy\n",
        "\n",
        "# Download NLTK stopwords\n",
        "nltk.download('stopwords')\n",
        "stop_words = set(stopwords.words('english'))\n",
        "\n",
        "# Load spaCy model\n",
        "nlp = spacy.load(\"en_core_web_sm\")\n",
        "\n",
        "# Function to preprocess text\n",
        "def preprocess_text(text):\n",
        "    # Convert text to lowercase using spaCy\n",
        "    doc = nlp(text.lower())\n",
        "\n",
        "    # Tokenize and remove stopwords using NLTK\n",
        "    filtered_words = [token.text for token in doc if token.text not in stop_words]\n",
        "\n",
        "    return \" \".join(filtered_words)\n",
        "\n",
        "# Input text\n",
        "text = \"SpaCy is a powerful library for Natural Language Processing, and NLTK is great for text analysis.\"\n",
        "\n",
        "# Process the text\n",
        "processed_text = preprocess_text(text)\n",
        "\n",
        "print(\"Original Text:\", text)\n",
        "print(\"Processed Text:\", processed_text)\n",
        "\n",
        "\n"
      ]
    },
    {
      "cell_type": "code",
      "source": [],
      "metadata": {
        "id": "EwzCVWi7kDZD"
      },
      "execution_count": null,
      "outputs": []
    },
    {
      "cell_type": "code",
      "source": [],
      "metadata": {
        "id": "v8rWWWaOkT3o"
      },
      "execution_count": null,
      "outputs": []
    }
  ]
}