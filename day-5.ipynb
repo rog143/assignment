{
  "nbformat": 4,
  "nbformat_minor": 0,
  "metadata": {
    "colab": {
      "provenance": [],
      "authorship_tag": "ABX9TyMTqOtS19TqlIiSnbd4lNQE",
      "include_colab_link": true
    },
    "kernelspec": {
      "name": "python3",
      "display_name": "Python 3"
    },
    "language_info": {
      "name": "python"
    }
  },
  "cells": [
    {
      "cell_type": "markdown",
      "metadata": {
        "id": "view-in-github",
        "colab_type": "text"
      },
      "source": [
        "<a href=\"https://colab.research.google.com/github/rog143/assignment/blob/main/day-5.ipynb\" target=\"_parent\"><img src=\"https://colab.research.google.com/assets/colab-badge.svg\" alt=\"Open In Colab\"/></a>"
      ]
    },
    {
      "cell_type": "code",
      "execution_count": 1,
      "metadata": {
        "colab": {
          "base_uri": "https://localhost:8080/"
        },
        "id": "46YzfQMqDa1g",
        "outputId": "c2eb6d01-4e36-4502-b25b-582c3c365528"
      },
      "outputs": [
        {
          "output_type": "stream",
          "name": "stdout",
          "text": [
            "Enter the text: hi my name is mohan ,hi my name is jhon,hi my name is ram \n",
            "\n",
            "Word Frequencies:\n",
            "hi: 1\n",
            "my: 3\n",
            "name: 3\n",
            "is: 3\n",
            "mohan: 1\n",
            ",hi: 1\n",
            "jhon,hi: 1\n",
            "ram: 1\n"
          ]
        }
      ],
      "source": [
        "# write a pyhton program to calculate the frequency of each word in a given text. print the words and their corresponding counts\n",
        "from collections import Counter\n",
        "\n",
        "# Input text\n",
        "text = input(\"Enter the text: \")\n",
        "\n",
        "# Convert the text to lowercase and split into words\n",
        "words = text.lower().split()\n",
        "\n",
        "# Count the frequency of each word\n",
        "word_counts = Counter(words)\n",
        "\n",
        "# Print each word and its corresponding count\n",
        "print(\"\\nWord Frequencies:\")\n",
        "for word, count in word_counts.items():\n",
        "    print(f\"{word}: {count}\")\n"
      ]
    },
    {
      "cell_type": "code",
      "source": [],
      "metadata": {
        "id": "LWmIkh1MHnlP"
      },
      "execution_count": null,
      "outputs": []
    }
  ]
}