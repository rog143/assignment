{
  "nbformat": 4,
  "nbformat_minor": 0,
  "metadata": {
    "colab": {
      "provenance": [],
      "mount_file_id": "110NtJKBB34d2heQwmaMKt_ZZc0DXploN",
      "authorship_tag": "ABX9TyN+Z3w5QU9B6XEeH2OdgFX/",
      "include_colab_link": true
    },
    "kernelspec": {
      "name": "python3",
      "display_name": "Python 3"
    },
    "language_info": {
      "name": "python"
    }
  },
  "cells": [
    {
      "cell_type": "markdown",
      "metadata": {
        "id": "view-in-github",
        "colab_type": "text"
      },
      "source": [
        "<a href=\"https://colab.research.google.com/github/rog143/assignment/blob/main/day-4.ipynb\" target=\"_parent\"><img src=\"https://colab.research.google.com/assets/colab-badge.svg\" alt=\"Open In Colab\"/></a>"
      ]
    },
    {
      "cell_type": "code",
      "execution_count": 1,
      "metadata": {
        "colab": {
          "base_uri": "https://localhost:8080/"
        },
        "id": "1mCK8CIUyXlM",
        "outputId": "b95233b3-833a-4b77-e710-fc2c688e7dd9"
      },
      "outputs": [
        {
          "output_type": "stream",
          "name": "stdout",
          "text": [
            "10\n",
            "20\n"
          ]
        }
      ],
      "source": [
        "# Write a Python program to calculate the sum of all even numbers between 1 and a given positive integer n\n",
        "a=[]\n",
        "n=int(input())\n",
        "for i in range(0,n):\n",
        "  if i%2==0:\n",
        "    a.append(i)\n",
        "print(sum(a))\n"
      ]
    },
    {
      "cell_type": "code",
      "source": [],
      "metadata": {
        "id": "pKJGpR7VyZBy"
      },
      "execution_count": null,
      "outputs": []
    }
  ]
}